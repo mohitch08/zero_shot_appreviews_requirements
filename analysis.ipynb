{
 "cells": [
  {
   "cell_type": "code",
   "execution_count": 10,
   "id": "60241aa6",
   "metadata": {},
   "outputs": [
    {
     "name": "stdout",
     "output_type": "stream",
     "text": [
      "Defaulting to user installation because normal site-packages is not writeable"
     ]
    },
    {
     "name": "stderr",
     "output_type": "stream",
     "text": [
      "\n",
      "[notice] A new release of pip is available: 24.2 -> 24.3.1\n",
      "[notice] To update, run: python.exe -m pip install --upgrade pip\n"
     ]
    },
    {
     "name": "stdout",
     "output_type": "stream",
     "text": [
      "\n",
      "Requirement already satisfied: seaborn in c:\\users\\2576112\\appdata\\roaming\\python\\python311\\site-packages (0.13.0)\n",
      "Requirement already satisfied: numpy!=1.24.0,>=1.20 in c:\\users\\2576112\\appdata\\roaming\\python\\python311\\site-packages (from seaborn) (1.24.3)\n",
      "Requirement already satisfied: pandas>=1.2 in c:\\users\\2576112\\appdata\\roaming\\python\\python311\\site-packages (from seaborn) (2.0.3)\n",
      "Requirement already satisfied: matplotlib!=3.6.1,>=3.3 in c:\\users\\2576112\\appdata\\roaming\\python\\python311\\site-packages (from seaborn) (3.8.0)\n",
      "Requirement already satisfied: contourpy>=1.0.1 in c:\\users\\2576112\\appdata\\roaming\\python\\python311\\site-packages (from matplotlib!=3.6.1,>=3.3->seaborn) (1.1.1)\n",
      "Requirement already satisfied: cycler>=0.10 in c:\\users\\2576112\\appdata\\roaming\\python\\python311\\site-packages (from matplotlib!=3.6.1,>=3.3->seaborn) (0.12.1)\n",
      "Requirement already satisfied: fonttools>=4.22.0 in c:\\users\\2576112\\appdata\\roaming\\python\\python311\\site-packages (from matplotlib!=3.6.1,>=3.3->seaborn) (4.43.1)\n",
      "Requirement already satisfied: kiwisolver>=1.0.1 in c:\\users\\2576112\\appdata\\roaming\\python\\python311\\site-packages (from matplotlib!=3.6.1,>=3.3->seaborn) (1.4.5)\n",
      "Requirement already satisfied: packaging>=20.0 in c:\\users\\2576112\\appdata\\roaming\\python\\python311\\site-packages (from matplotlib!=3.6.1,>=3.3->seaborn) (24.1)\n",
      "Requirement already satisfied: pillow>=6.2.0 in c:\\users\\2576112\\appdata\\roaming\\python\\python311\\site-packages (from matplotlib!=3.6.1,>=3.3->seaborn) (10.1.0)\n",
      "Requirement already satisfied: pyparsing>=2.3.1 in c:\\users\\2576112\\appdata\\roaming\\python\\python311\\site-packages (from matplotlib!=3.6.1,>=3.3->seaborn) (3.1.1)\n",
      "Requirement already satisfied: python-dateutil>=2.7 in c:\\users\\2576112\\appdata\\roaming\\python\\python311\\site-packages (from matplotlib!=3.6.1,>=3.3->seaborn) (2.8.2)\n",
      "Requirement already satisfied: pytz>=2020.1 in c:\\users\\2576112\\appdata\\roaming\\python\\python311\\site-packages (from pandas>=1.2->seaborn) (2023.3)\n",
      "Requirement already satisfied: tzdata>=2022.1 in c:\\users\\2576112\\appdata\\roaming\\python\\python311\\site-packages (from pandas>=1.2->seaborn) (2023.3)\n",
      "Requirement already satisfied: six>=1.5 in c:\\users\\2576112\\appdata\\roaming\\python\\python311\\site-packages (from python-dateutil>=2.7->matplotlib!=3.6.1,>=3.3->seaborn) (1.16.0)\n",
      "Defaulting to user installation because normal site-packages is not writeable\n",
      "Requirement already satisfied: openpyxl in c:\\users\\2576112\\appdata\\roaming\\python\\python311\\site-packages (3.1.2)\n",
      "Requirement already satisfied: et-xmlfile in c:\\users\\2576112\\appdata\\roaming\\python\\python311\\site-packages (from openpyxl) (1.1.0)\n"
     ]
    },
    {
     "name": "stderr",
     "output_type": "stream",
     "text": [
      "\n",
      "[notice] A new release of pip is available: 24.2 -> 24.3.1\n",
      "[notice] To update, run: python.exe -m pip install --upgrade pip\n"
     ]
    },
    {
     "name": "stdout",
     "output_type": "stream",
     "text": [
      "Defaulting to user installation because normal site-packages is not writeable\n",
      "Requirement already satisfied: textstat in c:\\users\\2576112\\appdata\\roaming\\python\\python311\\site-packages (0.7.3)\n",
      "Requirement already satisfied: pyphen in c:\\users\\2576112\\appdata\\roaming\\python\\python311\\site-packages (from textstat) (0.14.0)\n"
     ]
    },
    {
     "name": "stderr",
     "output_type": "stream",
     "text": [
      "\n",
      "[notice] A new release of pip is available: 24.2 -> 24.3.1\n",
      "[notice] To update, run: python.exe -m pip install --upgrade pip\n"
     ]
    }
   ],
   "source": [
    "# install required libraries\n",
    "!pip install seaborn\n",
    "!pip install openpyxl\n",
    "!pip install textstat"
   ]
  },
  {
   "cell_type": "code",
   "execution_count": 42,
   "id": "98785ed4",
   "metadata": {},
   "outputs": [],
   "source": [
    "#install required dependencies\n",
    "import pandas as pd\n",
    "import os\n",
    "import textstat\n",
    "import numpy as np\n",
    "import matplotlib.pyplot as plt\n",
    "import seaborn as sns\n",
    "import sklearn\n",
    "from sklearn.metrics import precision_score, recall_score, confusion_matrix, classification_report, accuracy_score, f1_score"
   ]
  },
  {
   "cell_type": "code",
   "execution_count": 43,
   "id": "fe86ac29-cd18-4db0-9e98-42a1b96dfd3e",
   "metadata": {},
   "outputs": [
    {
     "data": {
      "text/plain": [
       "'C:\\\\Users\\\\2576112\\\\req_apps'"
      ]
     },
     "execution_count": 43,
     "metadata": {},
     "output_type": "execute_result"
    }
   ],
   "source": [
    "os.getcwd()"
   ]
  },
  {
   "cell_type": "code",
   "execution_count": 127,
   "id": "88c0b203",
   "metadata": {},
   "outputs": [
    {
     "data": {
      "text/html": [
       "<div>\n",
       "<style scoped>\n",
       "    .dataframe tbody tr th:only-of-type {\n",
       "        vertical-align: middle;\n",
       "    }\n",
       "\n",
       "    .dataframe tbody tr th {\n",
       "        vertical-align: top;\n",
       "    }\n",
       "\n",
       "    .dataframe thead th {\n",
       "        text-align: right;\n",
       "    }\n",
       "</style>\n",
       "<table border=\"1\" class=\"dataframe\">\n",
       "  <thead>\n",
       "    <tr style=\"text-align: right;\">\n",
       "      <th></th>\n",
       "      <th>Unnamed: 0</th>\n",
       "      <th>App_Name</th>\n",
       "      <th>Extracted_Review</th>\n",
       "      <th>Classification</th>\n",
       "      <th>P1_0.2n</th>\n",
       "      <th>P1_0.7n</th>\n",
       "      <th>P1_1.3n</th>\n",
       "      <th>P2_0.2n</th>\n",
       "      <th>P2_0.7n</th>\n",
       "      <th>P2_1.3n</th>\n",
       "      <th>P3_0.2n</th>\n",
       "      <th>P3_0.7n</th>\n",
       "      <th>P3_1.3n</th>\n",
       "      <th>FKGL</th>\n",
       "      <th>chars</th>\n",
       "    </tr>\n",
       "  </thead>\n",
       "  <tbody>\n",
       "    <tr>\n",
       "      <th>0</th>\n",
       "      <td>0</td>\n",
       "      <td>Netflix</td>\n",
       "      <td>First, Netflix crashes often when I'm watching...</td>\n",
       "      <td>Both</td>\n",
       "      <td>Both</td>\n",
       "      <td>Both</td>\n",
       "      <td>Both</td>\n",
       "      <td>Both</td>\n",
       "      <td>Both</td>\n",
       "      <td>Functional Requirements</td>\n",
       "      <td>Both</td>\n",
       "      <td>Both</td>\n",
       "      <td>Both</td>\n",
       "      <td>7.8</td>\n",
       "      <td>461</td>\n",
       "    </tr>\n",
       "    <tr>\n",
       "      <th>1</th>\n",
       "      <td>1</td>\n",
       "      <td>Netflix</td>\n",
       "      <td>We've had Netflix for years and it is continuo...</td>\n",
       "      <td>Non-Functional Requirements</td>\n",
       "      <td>Non-Functional Requirements</td>\n",
       "      <td>Non-Functional Requirements</td>\n",
       "      <td>NaN</td>\n",
       "      <td>Non-Functional Requirements</td>\n",
       "      <td>Non-Functional Requirements</td>\n",
       "      <td>Non-Functional Requirements</td>\n",
       "      <td>Non-Functional Requirements</td>\n",
       "      <td>Non-Functional Requirements</td>\n",
       "      <td>Non-Functional Requirements</td>\n",
       "      <td>5.7</td>\n",
       "      <td>498</td>\n",
       "    </tr>\n",
       "    <tr>\n",
       "      <th>2</th>\n",
       "      <td>2</td>\n",
       "      <td>Netflix</td>\n",
       "      <td>Netflix used to be a great app for shows/serie...</td>\n",
       "      <td>NaN</td>\n",
       "      <td>NaN</td>\n",
       "      <td>NaN</td>\n",
       "      <td>NaN</td>\n",
       "      <td>NaN</td>\n",
       "      <td>NaN</td>\n",
       "      <td>Non-Functional Requirements</td>\n",
       "      <td>NaN</td>\n",
       "      <td>NaN</td>\n",
       "      <td>NaN</td>\n",
       "      <td>4.8</td>\n",
       "      <td>494</td>\n",
       "    </tr>\n",
       "    <tr>\n",
       "      <th>3</th>\n",
       "      <td>3</td>\n",
       "      <td>Netflix</td>\n",
       "      <td>I've been using Netflix for almost 2 years may...</td>\n",
       "      <td>Non-Functional Requirements</td>\n",
       "      <td>Non-Functional Requirements</td>\n",
       "      <td>Non-Functional Requirements</td>\n",
       "      <td>Non-Functional Requirements</td>\n",
       "      <td>Non-Functional Requirements</td>\n",
       "      <td>Non-Functional Requirements</td>\n",
       "      <td>Functional Requirements</td>\n",
       "      <td>Non-Functional Requirements</td>\n",
       "      <td>Non-Functional Requirements</td>\n",
       "      <td>Non-Functional Requirements</td>\n",
       "      <td>4.1</td>\n",
       "      <td>425</td>\n",
       "    </tr>\n",
       "    <tr>\n",
       "      <th>4</th>\n",
       "      <td>4</td>\n",
       "      <td>Netflix</td>\n",
       "      <td>What a shame. I've been with Netflix from the ...</td>\n",
       "      <td>NaN</td>\n",
       "      <td>NaN</td>\n",
       "      <td>NaN</td>\n",
       "      <td>Non-Functional Requirements</td>\n",
       "      <td>NaN</td>\n",
       "      <td>NaN</td>\n",
       "      <td>NaN</td>\n",
       "      <td>NaN</td>\n",
       "      <td>NaN</td>\n",
       "      <td>NaN</td>\n",
       "      <td>5.6</td>\n",
       "      <td>409</td>\n",
       "    </tr>\n",
       "  </tbody>\n",
       "</table>\n",
       "</div>"
      ],
      "text/plain": [
       "   Unnamed: 0 App_Name                                   Extracted_Review  \\\n",
       "0           0  Netflix  First, Netflix crashes often when I'm watching...   \n",
       "1           1  Netflix  We've had Netflix for years and it is continuo...   \n",
       "2           2  Netflix  Netflix used to be a great app for shows/serie...   \n",
       "3           3  Netflix  I've been using Netflix for almost 2 years may...   \n",
       "4           4  Netflix  What a shame. I've been with Netflix from the ...   \n",
       "\n",
       "                Classification                      P1_0.2n  \\\n",
       "0                         Both                         Both   \n",
       "1  Non-Functional Requirements  Non-Functional Requirements   \n",
       "2                          NaN                          NaN   \n",
       "3  Non-Functional Requirements  Non-Functional Requirements   \n",
       "4                          NaN                          NaN   \n",
       "\n",
       "                       P1_0.7n                      P1_1.3n  \\\n",
       "0                         Both                         Both   \n",
       "1  Non-Functional Requirements                          NaN   \n",
       "2                          NaN                          NaN   \n",
       "3  Non-Functional Requirements  Non-Functional Requirements   \n",
       "4                          NaN  Non-Functional Requirements   \n",
       "\n",
       "                       P2_0.2n                      P2_0.7n  \\\n",
       "0                         Both                         Both   \n",
       "1  Non-Functional Requirements  Non-Functional Requirements   \n",
       "2                          NaN                          NaN   \n",
       "3  Non-Functional Requirements  Non-Functional Requirements   \n",
       "4                          NaN                          NaN   \n",
       "\n",
       "                       P2_1.3n                      P3_0.2n  \\\n",
       "0      Functional Requirements                         Both   \n",
       "1  Non-Functional Requirements  Non-Functional Requirements   \n",
       "2  Non-Functional Requirements                          NaN   \n",
       "3      Functional Requirements  Non-Functional Requirements   \n",
       "4                          NaN                          NaN   \n",
       "\n",
       "                       P3_0.7n                      P3_1.3n  FKGL  chars  \n",
       "0                         Both                         Both   7.8    461  \n",
       "1  Non-Functional Requirements  Non-Functional Requirements   5.7    498  \n",
       "2                          NaN                          NaN   4.8    494  \n",
       "3  Non-Functional Requirements  Non-Functional Requirements   4.1    425  \n",
       "4                          NaN                          NaN   5.6    409  "
      ]
     },
     "execution_count": 127,
     "metadata": {},
     "output_type": "execute_result"
    }
   ],
   "source": [
    "# reading dataset with all temperature and prompts configuration results\n",
    "df=pd.read_excel('C:\\\\Users\\\\2576112\\\\req_apps\\\\results.xlsx')\n",
    "df.head()"
   ]
  },
  {
   "cell_type": "code",
   "execution_count": 128,
   "id": "72d861d8-ed87-48f9-be06-56cd8c1d2a81",
   "metadata": {},
   "outputs": [
    {
     "data": {
      "text/html": [
       "<div>\n",
       "<style scoped>\n",
       "    .dataframe tbody tr th:only-of-type {\n",
       "        vertical-align: middle;\n",
       "    }\n",
       "\n",
       "    .dataframe tbody tr th {\n",
       "        vertical-align: top;\n",
       "    }\n",
       "\n",
       "    .dataframe thead th {\n",
       "        text-align: right;\n",
       "    }\n",
       "</style>\n",
       "<table border=\"1\" class=\"dataframe\">\n",
       "  <thead>\n",
       "    <tr style=\"text-align: right;\">\n",
       "      <th></th>\n",
       "      <th>Unnamed: 0</th>\n",
       "      <th>App_Name</th>\n",
       "      <th>Extracted_Review</th>\n",
       "      <th>Classification</th>\n",
       "      <th>P1_0.2n</th>\n",
       "      <th>P1_0.7n</th>\n",
       "      <th>P1_1.3n</th>\n",
       "      <th>P2_0.2n</th>\n",
       "      <th>P2_0.7n</th>\n",
       "      <th>P2_1.3n</th>\n",
       "      <th>P3_0.2n</th>\n",
       "      <th>P3_0.7n</th>\n",
       "      <th>P3_1.3n</th>\n",
       "      <th>FKGL</th>\n",
       "      <th>chars</th>\n",
       "    </tr>\n",
       "  </thead>\n",
       "  <tbody>\n",
       "    <tr>\n",
       "      <th>0</th>\n",
       "      <td>0</td>\n",
       "      <td>Netflix</td>\n",
       "      <td>First, Netflix crashes often when I'm watching...</td>\n",
       "      <td>Both</td>\n",
       "      <td>Both</td>\n",
       "      <td>Both</td>\n",
       "      <td>Both</td>\n",
       "      <td>Both</td>\n",
       "      <td>Both</td>\n",
       "      <td>Functional Requirements</td>\n",
       "      <td>Both</td>\n",
       "      <td>Both</td>\n",
       "      <td>Both</td>\n",
       "      <td>7.8</td>\n",
       "      <td>461</td>\n",
       "    </tr>\n",
       "    <tr>\n",
       "      <th>1</th>\n",
       "      <td>1</td>\n",
       "      <td>Netflix</td>\n",
       "      <td>We've had Netflix for years and it is continuo...</td>\n",
       "      <td>Non-Functional Requirements</td>\n",
       "      <td>Non-Functional Requirements</td>\n",
       "      <td>Non-Functional Requirements</td>\n",
       "      <td>none</td>\n",
       "      <td>Non-Functional Requirements</td>\n",
       "      <td>Non-Functional Requirements</td>\n",
       "      <td>Non-Functional Requirements</td>\n",
       "      <td>Non-Functional Requirements</td>\n",
       "      <td>Non-Functional Requirements</td>\n",
       "      <td>Non-Functional Requirements</td>\n",
       "      <td>5.7</td>\n",
       "      <td>498</td>\n",
       "    </tr>\n",
       "    <tr>\n",
       "      <th>2</th>\n",
       "      <td>2</td>\n",
       "      <td>Netflix</td>\n",
       "      <td>Netflix used to be a great app for shows/serie...</td>\n",
       "      <td>none</td>\n",
       "      <td>none</td>\n",
       "      <td>none</td>\n",
       "      <td>none</td>\n",
       "      <td>none</td>\n",
       "      <td>none</td>\n",
       "      <td>Non-Functional Requirements</td>\n",
       "      <td>none</td>\n",
       "      <td>none</td>\n",
       "      <td>none</td>\n",
       "      <td>4.8</td>\n",
       "      <td>494</td>\n",
       "    </tr>\n",
       "    <tr>\n",
       "      <th>3</th>\n",
       "      <td>3</td>\n",
       "      <td>Netflix</td>\n",
       "      <td>I've been using Netflix for almost 2 years may...</td>\n",
       "      <td>Non-Functional Requirements</td>\n",
       "      <td>Non-Functional Requirements</td>\n",
       "      <td>Non-Functional Requirements</td>\n",
       "      <td>Non-Functional Requirements</td>\n",
       "      <td>Non-Functional Requirements</td>\n",
       "      <td>Non-Functional Requirements</td>\n",
       "      <td>Functional Requirements</td>\n",
       "      <td>Non-Functional Requirements</td>\n",
       "      <td>Non-Functional Requirements</td>\n",
       "      <td>Non-Functional Requirements</td>\n",
       "      <td>4.1</td>\n",
       "      <td>425</td>\n",
       "    </tr>\n",
       "    <tr>\n",
       "      <th>4</th>\n",
       "      <td>4</td>\n",
       "      <td>Netflix</td>\n",
       "      <td>What a shame. I've been with Netflix from the ...</td>\n",
       "      <td>none</td>\n",
       "      <td>none</td>\n",
       "      <td>none</td>\n",
       "      <td>Non-Functional Requirements</td>\n",
       "      <td>none</td>\n",
       "      <td>none</td>\n",
       "      <td>none</td>\n",
       "      <td>none</td>\n",
       "      <td>none</td>\n",
       "      <td>none</td>\n",
       "      <td>5.6</td>\n",
       "      <td>409</td>\n",
       "    </tr>\n",
       "  </tbody>\n",
       "</table>\n",
       "</div>"
      ],
      "text/plain": [
       "   Unnamed: 0 App_Name                                   Extracted_Review  \\\n",
       "0           0  Netflix  First, Netflix crashes often when I'm watching...   \n",
       "1           1  Netflix  We've had Netflix for years and it is continuo...   \n",
       "2           2  Netflix  Netflix used to be a great app for shows/serie...   \n",
       "3           3  Netflix  I've been using Netflix for almost 2 years may...   \n",
       "4           4  Netflix  What a shame. I've been with Netflix from the ...   \n",
       "\n",
       "                Classification                      P1_0.2n  \\\n",
       "0                         Both                         Both   \n",
       "1  Non-Functional Requirements  Non-Functional Requirements   \n",
       "2                         none                         none   \n",
       "3  Non-Functional Requirements  Non-Functional Requirements   \n",
       "4                         none                         none   \n",
       "\n",
       "                       P1_0.7n                      P1_1.3n  \\\n",
       "0                         Both                         Both   \n",
       "1  Non-Functional Requirements                         none   \n",
       "2                         none                         none   \n",
       "3  Non-Functional Requirements  Non-Functional Requirements   \n",
       "4                         none  Non-Functional Requirements   \n",
       "\n",
       "                       P2_0.2n                      P2_0.7n  \\\n",
       "0                         Both                         Both   \n",
       "1  Non-Functional Requirements  Non-Functional Requirements   \n",
       "2                         none                         none   \n",
       "3  Non-Functional Requirements  Non-Functional Requirements   \n",
       "4                         none                         none   \n",
       "\n",
       "                       P2_1.3n                      P3_0.2n  \\\n",
       "0      Functional Requirements                         Both   \n",
       "1  Non-Functional Requirements  Non-Functional Requirements   \n",
       "2  Non-Functional Requirements                         none   \n",
       "3      Functional Requirements  Non-Functional Requirements   \n",
       "4                         none                         none   \n",
       "\n",
       "                       P3_0.7n                      P3_1.3n  FKGL  chars  \n",
       "0                         Both                         Both   7.8    461  \n",
       "1  Non-Functional Requirements  Non-Functional Requirements   5.7    498  \n",
       "2                         none                         none   4.8    494  \n",
       "3  Non-Functional Requirements  Non-Functional Requirements   4.1    425  \n",
       "4                         none                         none   5.6    409  "
      ]
     },
     "execution_count": 128,
     "metadata": {},
     "output_type": "execute_result"
    }
   ],
   "source": [
    "df=df.fillna('none')\n",
    "df.head()"
   ]
  },
  {
   "cell_type": "code",
   "execution_count": 129,
   "id": "34779d8b-973a-4c2c-9b3b-f019929c85d2",
   "metadata": {},
   "outputs": [
    {
     "data": {
      "text/plain": [
       "Classification\n",
       "Functional Requirements        713\n",
       "Non-Functional Requirements    654\n",
       "Both                           298\n",
       "none                           216\n",
       "Name: count, dtype: int64"
      ]
     },
     "execution_count": 129,
     "metadata": {},
     "output_type": "execute_result"
    }
   ],
   "source": [
    "df['Classification'].value_counts()"
   ]
  },
  {
   "cell_type": "code",
   "execution_count": 130,
   "id": "45ff3de7-16b4-4de2-8956-5f8bd773bc45",
   "metadata": {},
   "outputs": [
    {
     "data": {
      "text/html": [
       "<div>\n",
       "<style scoped>\n",
       "    .dataframe tbody tr th:only-of-type {\n",
       "        vertical-align: middle;\n",
       "    }\n",
       "\n",
       "    .dataframe tbody tr th {\n",
       "        vertical-align: top;\n",
       "    }\n",
       "\n",
       "    .dataframe thead th {\n",
       "        text-align: right;\n",
       "    }\n",
       "</style>\n",
       "<table border=\"1\" class=\"dataframe\">\n",
       "  <thead>\n",
       "    <tr style=\"text-align: right;\">\n",
       "      <th></th>\n",
       "      <th>Unnamed: 0</th>\n",
       "      <th>App_Name</th>\n",
       "      <th>Extracted_Review</th>\n",
       "      <th>Classification</th>\n",
       "      <th>P1_0.2n</th>\n",
       "      <th>P1_0.7n</th>\n",
       "      <th>P1_1.3n</th>\n",
       "      <th>P2_0.2n</th>\n",
       "      <th>P2_0.7n</th>\n",
       "      <th>P2_1.3n</th>\n",
       "      <th>P3_0.2n</th>\n",
       "      <th>P3_0.7n</th>\n",
       "      <th>P3_1.3n</th>\n",
       "      <th>FKGL</th>\n",
       "      <th>chars</th>\n",
       "    </tr>\n",
       "  </thead>\n",
       "  <tbody>\n",
       "    <tr>\n",
       "      <th>0</th>\n",
       "      <td>0</td>\n",
       "      <td>Netflix</td>\n",
       "      <td>First, Netflix crashes often when I'm watching...</td>\n",
       "      <td>Both</td>\n",
       "      <td>Both</td>\n",
       "      <td>Both</td>\n",
       "      <td>Both</td>\n",
       "      <td>Both</td>\n",
       "      <td>Both</td>\n",
       "      <td>Functional Requirements</td>\n",
       "      <td>Both</td>\n",
       "      <td>Both</td>\n",
       "      <td>Both</td>\n",
       "      <td>7.8</td>\n",
       "      <td>461</td>\n",
       "    </tr>\n",
       "    <tr>\n",
       "      <th>1</th>\n",
       "      <td>1</td>\n",
       "      <td>Netflix</td>\n",
       "      <td>We've had Netflix for years and it is continuo...</td>\n",
       "      <td>Non-Functional Requirements</td>\n",
       "      <td>Non-Functional Requirements</td>\n",
       "      <td>Non-Functional Requirements</td>\n",
       "      <td>none</td>\n",
       "      <td>Non-Functional Requirements</td>\n",
       "      <td>Non-Functional Requirements</td>\n",
       "      <td>Non-Functional Requirements</td>\n",
       "      <td>Non-Functional Requirements</td>\n",
       "      <td>Non-Functional Requirements</td>\n",
       "      <td>Non-Functional Requirements</td>\n",
       "      <td>5.7</td>\n",
       "      <td>498</td>\n",
       "    </tr>\n",
       "    <tr>\n",
       "      <th>2</th>\n",
       "      <td>2</td>\n",
       "      <td>Netflix</td>\n",
       "      <td>Netflix used to be a great app for shows/serie...</td>\n",
       "      <td>none</td>\n",
       "      <td>none</td>\n",
       "      <td>none</td>\n",
       "      <td>none</td>\n",
       "      <td>none</td>\n",
       "      <td>none</td>\n",
       "      <td>Non-Functional Requirements</td>\n",
       "      <td>none</td>\n",
       "      <td>none</td>\n",
       "      <td>none</td>\n",
       "      <td>4.8</td>\n",
       "      <td>494</td>\n",
       "    </tr>\n",
       "    <tr>\n",
       "      <th>3</th>\n",
       "      <td>3</td>\n",
       "      <td>Netflix</td>\n",
       "      <td>I've been using Netflix for almost 2 years may...</td>\n",
       "      <td>Non-Functional Requirements</td>\n",
       "      <td>Non-Functional Requirements</td>\n",
       "      <td>Non-Functional Requirements</td>\n",
       "      <td>Non-Functional Requirements</td>\n",
       "      <td>Non-Functional Requirements</td>\n",
       "      <td>Non-Functional Requirements</td>\n",
       "      <td>Functional Requirements</td>\n",
       "      <td>Non-Functional Requirements</td>\n",
       "      <td>Non-Functional Requirements</td>\n",
       "      <td>Non-Functional Requirements</td>\n",
       "      <td>4.1</td>\n",
       "      <td>425</td>\n",
       "    </tr>\n",
       "    <tr>\n",
       "      <th>4</th>\n",
       "      <td>4</td>\n",
       "      <td>Netflix</td>\n",
       "      <td>What a shame. I've been with Netflix from the ...</td>\n",
       "      <td>none</td>\n",
       "      <td>none</td>\n",
       "      <td>none</td>\n",
       "      <td>Non-Functional Requirements</td>\n",
       "      <td>none</td>\n",
       "      <td>none</td>\n",
       "      <td>none</td>\n",
       "      <td>none</td>\n",
       "      <td>none</td>\n",
       "      <td>none</td>\n",
       "      <td>5.6</td>\n",
       "      <td>409</td>\n",
       "    </tr>\n",
       "  </tbody>\n",
       "</table>\n",
       "</div>"
      ],
      "text/plain": [
       "   Unnamed: 0 App_Name                                   Extracted_Review  \\\n",
       "0           0  Netflix  First, Netflix crashes often when I'm watching...   \n",
       "1           1  Netflix  We've had Netflix for years and it is continuo...   \n",
       "2           2  Netflix  Netflix used to be a great app for shows/serie...   \n",
       "3           3  Netflix  I've been using Netflix for almost 2 years may...   \n",
       "4           4  Netflix  What a shame. I've been with Netflix from the ...   \n",
       "\n",
       "                Classification                      P1_0.2n  \\\n",
       "0                         Both                         Both   \n",
       "1  Non-Functional Requirements  Non-Functional Requirements   \n",
       "2                         none                         none   \n",
       "3  Non-Functional Requirements  Non-Functional Requirements   \n",
       "4                         none                         none   \n",
       "\n",
       "                       P1_0.7n                      P1_1.3n  \\\n",
       "0                         Both                         Both   \n",
       "1  Non-Functional Requirements                         none   \n",
       "2                         none                         none   \n",
       "3  Non-Functional Requirements  Non-Functional Requirements   \n",
       "4                         none  Non-Functional Requirements   \n",
       "\n",
       "                       P2_0.2n                      P2_0.7n  \\\n",
       "0                         Both                         Both   \n",
       "1  Non-Functional Requirements  Non-Functional Requirements   \n",
       "2                         none                         none   \n",
       "3  Non-Functional Requirements  Non-Functional Requirements   \n",
       "4                         none                         none   \n",
       "\n",
       "                       P2_1.3n                      P3_0.2n  \\\n",
       "0      Functional Requirements                         Both   \n",
       "1  Non-Functional Requirements  Non-Functional Requirements   \n",
       "2  Non-Functional Requirements                         none   \n",
       "3      Functional Requirements  Non-Functional Requirements   \n",
       "4                         none                         none   \n",
       "\n",
       "                       P3_0.7n                      P3_1.3n  FKGL  chars  \n",
       "0                         Both                         Both   7.8    461  \n",
       "1  Non-Functional Requirements  Non-Functional Requirements   5.7    498  \n",
       "2                         none                         none   4.8    494  \n",
       "3  Non-Functional Requirements  Non-Functional Requirements   4.1    425  \n",
       "4                         none                         none   5.6    409  "
      ]
     },
     "execution_count": 130,
     "metadata": {},
     "output_type": "execute_result"
    }
   ],
   "source": [
    "df.head()"
   ]
  },
  {
   "cell_type": "code",
   "execution_count": 131,
   "id": "184f4c4d",
   "metadata": {},
   "outputs": [],
   "source": [
    "# function to find out recall, precision and F1 score, since it is multiclassification, we are using 'weighted' strategy\n",
    "def scores(ypred):\n",
    "    recall=recall_score(df['Classification'],ypred,average='weighted')\n",
    "    precision=precision_score(df['Classification'],ypred,average='weighted')\n",
    "    f1=f1_score(df['Classification'],ypred,average='weighted')\n",
    "    return recall,precision,f1\n",
    "    \n",
    "    \n",
    "    "
   ]
  },
  {
   "cell_type": "code",
   "execution_count": 132,
   "id": "91520c1c",
   "metadata": {},
   "outputs": [
    {
     "data": {
      "text/plain": [
       "Index(['P1_0.2n', 'P1_0.7n', 'P1_1.3n', 'P2_0.2n', 'P2_0.7n', 'P2_1.3n',\n",
       "       'P3_0.2n', 'P3_0.7n', 'P3_1.3n'],\n",
       "      dtype='object')"
      ]
     },
     "execution_count": 132,
     "metadata": {},
     "output_type": "execute_result"
    }
   ],
   "source": [
    "# columns for which we want to calculate all metrics\n",
    "df.columns[4:13]"
   ]
  },
  {
   "cell_type": "code",
   "execution_count": 133,
   "id": "81fb0017",
   "metadata": {},
   "outputs": [],
   "source": [
    "res=[]\n",
    "for col in df.columns[4:13]:\n",
    "    res.append(scores(df[col]))\n",
    "    "
   ]
  },
  {
   "cell_type": "code",
   "execution_count": 134,
   "id": "01c3a086",
   "metadata": {},
   "outputs": [
    {
     "data": {
      "text/plain": [
       "[(0.7926634768740032, 0.8038990614629548, 0.7847182829201929),\n",
       " (0.732589048378522, 0.7395939578423714, 0.7254378114395297),\n",
       " (0.670388091440723, 0.6697294870788725, 0.6647355858234757),\n",
       " (0.7862838915470495, 0.7919073854033252, 0.7777191568837545),\n",
       " (0.7814992025518341, 0.7929095452252737, 0.7737096778170582),\n",
       " (0.6586921850079744, 0.6564070097885278, 0.6505677453440529),\n",
       " (0.8484848484848485, 0.8586195924702887, 0.8422583549199454),\n",
       " (0.7432216905901117, 0.750880377940928, 0.73531142779202),\n",
       " (0.6687931951089846, 0.6668339854759141, 0.6601789333465566)]"
      ]
     },
     "execution_count": 134,
     "metadata": {},
     "output_type": "execute_result"
    }
   ],
   "source": [
    "res"
   ]
  },
  {
   "cell_type": "code",
   "execution_count": 135,
   "id": "11797b87-fc2f-456b-b9cc-568d6aad1e0f",
   "metadata": {},
   "outputs": [
    {
     "data": {
      "text/plain": [
       "P1_0.2n    0.784718\n",
       "P1_0.7n    0.725438\n",
       "P1_1.3n    0.664736\n",
       "P2_0.2n    0.777719\n",
       "P2_0.7n    0.773710\n",
       "P2_1.3n    0.650568\n",
       "P3_0.2n    0.842258\n",
       "P3_0.7n    0.735311\n",
       "P3_1.3n    0.660179\n",
       "dtype: float64"
      ]
     },
     "execution_count": 135,
     "metadata": {},
     "output_type": "execute_result"
    }
   ],
   "source": [
    "# creating a series of F1 scores at different prompts and temps\n",
    "f1_scores=pd.Series({'P1_0.2n':res[0][2],'P1_0.7n':res[1][2],'P1_1.3n':res[2][2],'P2_0.2n':res[3][2],'P2_0.7n':res[4][2],\n",
    "                   'P2_1.3n':res[5][2],'P3_0.2n':res[6][2],'P3_0.7n':res[7][2],'P3_1.3n':res[8][2]})\n",
    "f1_scores"
   ]
  },
  {
   "cell_type": "code",
   "execution_count": 136,
   "id": "37ba15de",
   "metadata": {},
   "outputs": [
    {
     "data": {
      "text/plain": [
       "P1_0.2n    0.784718\n",
       "P1_0.7n    0.725438\n",
       "P1_1.3n    0.664736\n",
       "P2_0.2n    0.777719\n",
       "P2_0.7n    0.773710\n",
       "P2_1.3n    0.650568\n",
       "P3_0.2n    0.842258\n",
       "P3_0.7n    0.735311\n",
       "P3_1.3n    0.660179\n",
       "dtype: float64"
      ]
     },
     "execution_count": 136,
     "metadata": {},
     "output_type": "execute_result"
    }
   ],
   "source": [
    "# creating a series of F1 scores at different prompts and temps\n",
    "f1_scores=pd.Series({'P1_0.2n':res[0][2],'P1_0.7n':res[1][2],'P1_1.3n':res[2][2],'P2_0.2n':res[3][2],'P2_0.7n':res[4][2],\n",
    "                   'P2_1.3n':res[5][2],'P3_0.2n':res[6][2],'P3_0.7n':res[7][2],'P3_1.3n':res[8][2]})\n",
    "f1_scores"
   ]
  },
  {
   "cell_type": "code",
   "execution_count": null,
   "id": "8ed9d6fc",
   "metadata": {},
   "outputs": [],
   "source": []
  },
  {
   "cell_type": "code",
   "execution_count": 137,
   "id": "77dc5bcf",
   "metadata": {},
   "outputs": [],
   "source": [
    "#extract class wise data \n",
    "df_fr=df[df['Classification']=='Functional Requirements']\n",
    "df_nfr=df[df['Classification']=='Non-Functional Requirements']\n",
    "df_both=df[df['Classification']=='Both']\n",
    "df_none=df[df['Classification']=='none']"
   ]
  },
  {
   "cell_type": "code",
   "execution_count": 138,
   "id": "a680cc6a",
   "metadata": {},
   "outputs": [
    {
     "data": {
      "text/plain": [
       "((713, 15), (654, 15), (298, 15), (216, 15))"
      ]
     },
     "execution_count": 138,
     "metadata": {},
     "output_type": "execute_result"
    }
   ],
   "source": [
    "df_fr.shape,df_nfr.shape,df_both.shape,df_none.shape"
   ]
  },
  {
   "cell_type": "markdown",
   "id": "6be92963-4677-4e46-b2c4-65bbfc348060",
   "metadata": {},
   "source": [
    "# Class wise accuracy at optimized configuration of prompt 3 with temp 0.2 and other analysis"
   ]
  },
  {
   "cell_type": "code",
   "execution_count": 139,
   "id": "3bbff7ab",
   "metadata": {},
   "outputs": [],
   "source": [
    "def scores_class(ytrue,ypred):\n",
    "    accuracy=accuracy_score(ytrue,ypred)\n",
    "    return accuracy"
   ]
  },
  {
   "cell_type": "code",
   "execution_count": 140,
   "id": "71fb6387",
   "metadata": {},
   "outputs": [],
   "source": [
    "# prompt3 with temp 0.2"
   ]
  },
  {
   "cell_type": "code",
   "execution_count": 141,
   "id": "1fa6c8fc",
   "metadata": {},
   "outputs": [
    {
     "name": "stdout",
     "output_type": "stream",
     "text": [
      "Accuracy of FR class at best configuration is 0.9144460028050491\n",
      "Accuracy of NFR class at best configuration is 0.8868501529051988\n",
      "Accuracy of \"Both\" class at best configuration is 0.5369127516778524\n",
      "Accuracy of \"None\" class at best configuration is 0.9444444444444444\n"
     ]
    }
   ],
   "source": [
    "print('Accuracy of FR class at best configuration is', scores_class(df_fr['Classification'],df_fr['P3_0.2n']))\n",
    "print('Accuracy of NFR class at best configuration is', scores_class(df_nfr['Classification'],df_nfr['P3_0.2n']))\n",
    "print('Accuracy of \"Both\" class at best configuration is',scores_class(df_both['Classification'],df_both['P3_0.2n']))\n",
    "print('Accuracy of \"None\" class at best configuration is', scores_class(df_none['Classification'],df_none['P3_0.2n']))"
   ]
  },
  {
   "cell_type": "code",
   "execution_count": 102,
   "id": "182538dc-23f2-4ac9-ba24-1711fc9ca7fd",
   "metadata": {},
   "outputs": [
    {
     "name": "stdout",
     "output_type": "stream",
     "text": [
      "FKGL of FR class at best configuration is 6.5536111111111115\n",
      "FKGL of NFR class at best configuration is 6.9057453416149075\n",
      "FKGL of \"Both\" class at best configuration is 7.661290322580645\n",
      "FKGL of \"None\" class at best configuration is 6.4449275362318845\n"
     ]
    }
   ],
   "source": [
    "print('FKGL of FR class at best configuration is', df_fr['FKGL'].mean())\n",
    "print('FKGL of NFR class at best configuration is', df_nfr['FKGL'].mean())\n",
    "print('FKGL of \"Both\" class at best configuration is',df_both['FKGL'].mean())\n",
    "print('FKGL of \"None\" class at best configuration is', df_none['FKGL'].mean())"
   ]
  },
  {
   "cell_type": "markdown",
   "id": "37116cd7",
   "metadata": {},
   "source": [
    "# Review length and complexity analysis"
   ]
  },
  {
   "cell_type": "code",
   "execution_count": 103,
   "id": "1d8aadc0",
   "metadata": {},
   "outputs": [],
   "source": [
    "##function to calculate FKGL score\n",
    "# def calculate_fk_grade_level(text):\n",
    "#     return textstat.flesch_kincaid_grade(text)"
   ]
  },
  {
   "cell_type": "code",
   "execution_count": 104,
   "id": "fa611095",
   "metadata": {},
   "outputs": [],
   "source": [
    "## calculating FKGL scores for all reviews\n",
    "# df1['FKGL']=df1['Extracted_Review'].apply(calculate_fk_grade_level)\n",
    "# df1"
   ]
  },
  {
   "cell_type": "code",
   "execution_count": 105,
   "id": "0c885915",
   "metadata": {},
   "outputs": [],
   "source": [
    "### function to calculate review character length\n",
    "# def chars(text):\n",
    "#     return len(text)"
   ]
  },
  {
   "cell_type": "code",
   "execution_count": 106,
   "id": "b8de0e6d",
   "metadata": {},
   "outputs": [],
   "source": [
    "### calculating review chars length for all reviews\n",
    "# df1['chars']=df1['Extracted_Review'].apply(chars)\n",
    "# df1.head()"
   ]
  },
  {
   "cell_type": "code",
   "execution_count": null,
   "id": "29fd2e1d",
   "metadata": {},
   "outputs": [],
   "source": []
  },
  {
   "cell_type": "code",
   "execution_count": 107,
   "id": "b8c312f3",
   "metadata": {},
   "outputs": [
    {
     "name": "stdout",
     "output_type": "stream",
     "text": [
      "Average FKGL for correct classification reviews is  6.3451509312780985\n",
      "Average FKGL for misclassified reviews is  9.24567901234568\n"
     ]
    }
   ],
   "source": [
    "print('Average FKGL for correct classification reviews is ', df[df['Classification']==df['P3_0.2n']]['FKGL'].mean())\n",
    "print('Average FKGL for misclassified reviews is ', df[df['Classification']!=df['P3_0.2n']]['FKGL'].mean())"
   ]
  },
  {
   "cell_type": "code",
   "execution_count": 108,
   "id": "8b5e9161",
   "metadata": {},
   "outputs": [
    {
     "name": "stdout",
     "output_type": "stream",
     "text": [
      "Avg characters length for correct classification reviews is 400.7116249197174\n",
      "Avg characters length for misclassified reviews is 402.5740740740741\n"
     ]
    }
   ],
   "source": [
    "\n",
    "print('Avg characters length for correct classification reviews is', df[df['Classification']==df['P3_0.2n']]['chars'].mean())\n",
    "print('Avg characters length for misclassified reviews is',df[df['Classification']!=df['P3_0.2n']]['chars'].mean())"
   ]
  },
  {
   "cell_type": "code",
   "execution_count": 39,
   "id": "bf95f906",
   "metadata": {},
   "outputs": [],
   "source": [
    "df1.to_excel('FKGL_n.xlsx')"
   ]
  },
  {
   "cell_type": "code",
   "execution_count": null,
   "id": "15baab3f",
   "metadata": {},
   "outputs": [],
   "source": []
  },
  {
   "cell_type": "code",
   "execution_count": null,
   "id": "7d587a1c",
   "metadata": {},
   "outputs": [],
   "source": []
  },
  {
   "cell_type": "code",
   "execution_count": null,
   "id": "48b5b509",
   "metadata": {},
   "outputs": [],
   "source": []
  },
  {
   "cell_type": "code",
   "execution_count": null,
   "id": "480a7d34",
   "metadata": {},
   "outputs": [],
   "source": []
  },
  {
   "cell_type": "code",
   "execution_count": null,
   "id": "09932d56",
   "metadata": {},
   "outputs": [],
   "source": []
  },
  {
   "cell_type": "code",
   "execution_count": null,
   "id": "70f95171",
   "metadata": {},
   "outputs": [],
   "source": []
  }
 ],
 "metadata": {
  "kernelspec": {
   "display_name": "Python 3 (ipykernel)",
   "language": "python",
   "name": "python3"
  },
  "language_info": {
   "codemirror_mode": {
    "name": "ipython",
    "version": 3
   },
   "file_extension": ".py",
   "mimetype": "text/x-python",
   "name": "python",
   "nbconvert_exporter": "python",
   "pygments_lexer": "ipython3",
   "version": "3.11.4"
  }
 },
 "nbformat": 4,
 "nbformat_minor": 5
}
